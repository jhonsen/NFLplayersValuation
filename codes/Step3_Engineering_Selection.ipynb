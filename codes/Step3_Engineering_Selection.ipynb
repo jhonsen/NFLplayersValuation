{
 "cells": [
  {
   "cell_type": "markdown",
   "metadata": {},
   "source": [
    "# Step3. Feature Engineering and Model Selection\n",
    "  \n",
    "Goal:\n",
    "- By the end of this notebook, the best model will be decided\n",
    "  \n",
    "Objectives:\n",
    "- [x] Split up data into TRAIN and TEST sets\n",
    "- [x] Examine learning curves to see how a simple model performs with the current number of observation\n",
    "- [x] Investigate which linear regression models to use, with or without regularization\n"
   ]
  },
  {
   "cell_type": "markdown",
   "metadata": {},
   "source": [
    "### Importing Libraries"
   ]
  },
  {
   "cell_type": "code",
   "execution_count": 1,
   "metadata": {},
   "outputs": [],
   "source": [
    "import pandas as pd\n",
    "import numpy as np\n",
    "import matplotlib.pyplot as plt\n",
    "import seaborn as sns\n",
    "\n",
    "from sklearn.linear_model import LinearRegression, Ridge, Lasso, ElasticNet\n",
    "from sklearn.linear_model import RidgeCV, LassoCV, ElasticNetCV\n",
    "from sklearn.model_selection import train_test_split, KFold, cross_val_score\n",
    "from sklearn.preprocessing import StandardScaler, PolynomialFeatures\n",
    "from sklearn.metrics import mean_squared_error, r2_score\n",
    "from sklearn.pipeline import make_pipeline, Pipeline\n",
    "from sklearn.preprocessing import power_transform\n",
    "from sklearn.tree import DecisionTreeRegressor\n",
    "from sklearn.ensemble import BaggingRegressor, RandomForestRegressor\n",
    "\n",
    "from ScrapeProcFunc import *\n",
    "\n",
    "import warnings\n",
    "warnings.simplefilter('ignore')"
   ]
  },
  {
   "cell_type": "code",
   "execution_count": 2,
   "metadata": {},
   "outputs": [],
   "source": [
    "# Import dataset\n",
    "df = pd.read_csv('./data/Allplayers.csv', index_col=0)"
   ]
  },
  {
   "cell_type": "code",
   "execution_count": 3,
   "metadata": {},
   "outputs": [
    {
     "data": {
      "text/html": [
       "<div>\n",
       "<style scoped>\n",
       "    .dataframe tbody tr th:only-of-type {\n",
       "        vertical-align: middle;\n",
       "    }\n",
       "\n",
       "    .dataframe tbody tr th {\n",
       "        vertical-align: top;\n",
       "    }\n",
       "\n",
       "    .dataframe thead th {\n",
       "        text-align: right;\n",
       "    }\n",
       "</style>\n",
       "<table border=\"1\" class=\"dataframe\">\n",
       "  <thead>\n",
       "    <tr style=\"text-align: right;\">\n",
       "      <th></th>\n",
       "      <th>draftRnd</th>\n",
       "      <th>ht_inch</th>\n",
       "      <th>Wt</th>\n",
       "      <th>dash</th>\n",
       "      <th>yr1</th>\n",
       "      <th>yr2</th>\n",
       "      <th>yr3</th>\n",
       "      <th>yr4</th>\n",
       "      <th>pos_QB</th>\n",
       "      <th>pos_RB</th>\n",
       "      <th>pos_WR</th>\n",
       "      <th>draftStat_No</th>\n",
       "      <th>draftStat_Yes</th>\n",
       "      <th>Salary_log1p</th>\n",
       "    </tr>\n",
       "  </thead>\n",
       "  <tbody>\n",
       "    <tr>\n",
       "      <th>97</th>\n",
       "      <td>4</td>\n",
       "      <td>71</td>\n",
       "      <td>219</td>\n",
       "      <td>4.4</td>\n",
       "      <td>76.0</td>\n",
       "      <td>0.2</td>\n",
       "      <td>51.4</td>\n",
       "      <td>27.6</td>\n",
       "      <td>0</td>\n",
       "      <td>1</td>\n",
       "      <td>0</td>\n",
       "      <td>0</td>\n",
       "      <td>1</td>\n",
       "      <td>14.173885</td>\n",
       "    </tr>\n",
       "  </tbody>\n",
       "</table>\n",
       "</div>"
      ],
      "text/plain": [
       "    draftRnd  ht_inch   Wt  dash   yr1  yr2   yr3   yr4  pos_QB  pos_RB  \\\n",
       "97         4       71  219   4.4  76.0  0.2  51.4  27.6       0       1   \n",
       "\n",
       "    pos_WR  draftStat_No  draftStat_Yes  Salary_log1p  \n",
       "97       0             0              1     14.173885  "
      ]
     },
     "execution_count": 3,
     "metadata": {},
     "output_type": "execute_result"
    }
   ],
   "source": [
    "df.sample()"
   ]
  },
  {
   "cell_type": "markdown",
   "metadata": {},
   "source": [
    "- Specify columns to use \n",
    "- Drop dummy variables"
   ]
  },
  {
   "cell_type": "code",
   "execution_count": 4,
   "metadata": {},
   "outputs": [
    {
     "name": "stdout",
     "output_type": "stream",
     "text": [
      "(356, 11)\n"
     ]
    },
    {
     "data": {
      "text/html": [
       "<div>\n",
       "<style scoped>\n",
       "    .dataframe tbody tr th:only-of-type {\n",
       "        vertical-align: middle;\n",
       "    }\n",
       "\n",
       "    .dataframe tbody tr th {\n",
       "        vertical-align: top;\n",
       "    }\n",
       "\n",
       "    .dataframe thead th {\n",
       "        text-align: right;\n",
       "    }\n",
       "</style>\n",
       "<table border=\"1\" class=\"dataframe\">\n",
       "  <thead>\n",
       "    <tr style=\"text-align: right;\">\n",
       "      <th></th>\n",
       "      <th>draftRnd</th>\n",
       "      <th>ht_inch</th>\n",
       "      <th>Wt</th>\n",
       "      <th>dash</th>\n",
       "      <th>yr1</th>\n",
       "      <th>yr2</th>\n",
       "      <th>yr3</th>\n",
       "      <th>yr4</th>\n",
       "      <th>pos_RB</th>\n",
       "      <th>pos_WR</th>\n",
       "      <th>draftStat_Yes</th>\n",
       "    </tr>\n",
       "  </thead>\n",
       "  <tbody>\n",
       "    <tr>\n",
       "      <th>48</th>\n",
       "      <td>5</td>\n",
       "      <td>75</td>\n",
       "      <td>195</td>\n",
       "      <td>4.58</td>\n",
       "      <td>0.3</td>\n",
       "      <td>18.5</td>\n",
       "      <td>25.4</td>\n",
       "      <td>0.0</td>\n",
       "      <td>0</td>\n",
       "      <td>0</td>\n",
       "      <td>1</td>\n",
       "    </tr>\n",
       "  </tbody>\n",
       "</table>\n",
       "</div>"
      ],
      "text/plain": [
       "    draftRnd  ht_inch   Wt  dash  yr1   yr2   yr3  yr4  pos_RB  pos_WR  \\\n",
       "48         5       75  195  4.58  0.3  18.5  25.4  0.0       0       0   \n",
       "\n",
       "    draftStat_Yes  \n",
       "48              1  "
      ]
     },
     "execution_count": 4,
     "metadata": {},
     "output_type": "execute_result"
    }
   ],
   "source": [
    "# Select columns to use or NOT use\n",
    "Xorig = df.drop(['pos_QB','draftStat_No', 'Salary_log1p'],axis=1)\n",
    "yorig = df['Salary_log1p']\n",
    "\n",
    "print(Xorig.shape)\n",
    "Xorig.sample()"
   ]
  },
  {
   "cell_type": "markdown",
   "metadata": {},
   "source": [
    "___\n"
   ]
  },
  {
   "cell_type": "markdown",
   "metadata": {},
   "source": [
    "### Start Splitting: TRAIN, VALIDATION, TEST"
   ]
  },
  {
   "cell_type": "code",
   "execution_count": 5,
   "metadata": {},
   "outputs": [],
   "source": [
    "# Hold out 20% of the data for final testing: TRAIN and TEST\n",
    "Xt, X_test, yt, y_test = train_test_split(Xorig, yorig, test_size=.2, random_state=10)\n",
    "\n",
    "# Split TRAIN and VALIDATION \n",
    "X_train_t, X_val_t, y_train_t, y_val_t = train_test_split(Xt, yt, test_size=.25, random_state=3)"
   ]
  },
  {
   "cell_type": "code",
   "execution_count": 6,
   "metadata": {},
   "outputs": [
    {
     "name": "stdout",
     "output_type": "stream",
     "text": [
      "size of all observations:  (356, 11)\n",
      "size of training set    :  (213, 11)\n",
      "size of validation set  :  (71, 11)\n",
      "size of testing set     :  (72, 11)\n"
     ]
    }
   ],
   "source": [
    "print('size of all observations: ', Xorig.shape)\n",
    "print('size of training set    : ', X_train_t.shape)\n",
    "print('size of validation set  : ', X_val_t.shape)\n",
    "print('size of testing set     : ', X_test.shape)"
   ]
  },
  {
   "cell_type": "markdown",
   "metadata": {},
   "source": [
    "### Plot Learning Curves, to see if our model performs ok under 356 observations "
   ]
  },
  {
   "cell_type": "code",
   "execution_count": 7,
   "metadata": {},
   "outputs": [],
   "source": [
    "# Standard Scaling features\n",
    "sc = StandardScaler()\n",
    "sc.fit(X_train_t.values)\n",
    "X_train_t_sc = sc.transform(X_train_t.values)\n",
    "X_val_t_sc = sc.transform(X_val_t.values)"
   ]
  },
  {
   "cell_type": "code",
   "execution_count": 10,
   "metadata": {},
   "outputs": [
    {
     "data": {
      "text/plain": [
       "LinearRegression(copy_X=True, fit_intercept=True, n_jobs=None,\n",
       "         normalize=False)"
      ]
     },
     "execution_count": 10,
     "metadata": {},
     "output_type": "execute_result"
    }
   ],
   "source": [
    "# Instantiate Linear Regressor\n",
    "lr = LinearRegression()\n",
    "lr.fit(X_train_t_sc, y_train_t)"
   ]
  },
  {
   "cell_type": "code",
   "execution_count": 11,
   "metadata": {},
   "outputs": [
    {
     "data": {
      "text/plain": [
       "<Figure size 432x288 with 0 Axes>"
      ]
     },
     "metadata": {},
     "output_type": "display_data"
    },
    {
     "data": {
      "image/png": "[encoded data removed]",
      "text/plain": [
       "<Figure size 720x432 with 1 Axes>"
      ]
     },
     "metadata": {
      "needs_background": "light"
     },
     "output_type": "display_data"
    }
   ],
   "source": [
    "# Checking Learning Curves\n",
    "fig = plt.figure()\n",
    "plot_learning_curves(lr, X_train_t_sc, X_val_t_sc, y_train_t, y_val_t)\n",
    "plt.xscale('log');\n",
    "# plt.savefig('./figures/learningCurves_log.png')"
   ]
  },
  {
   "cell_type": "code",
   "execution_count": 12,
   "metadata": {},
   "outputs": [
    {
     "data": {
      "text/plain": [
       "<Figure size 432x288 with 0 Axes>"
      ]
     },
     "metadata": {},
     "output_type": "display_data"
    },
    {
     "data": {
      "image/png": "[encoded data removed]",
      "text/plain": [
       "<Figure size 720x432 with 1 Axes>"
      ]
     },
     "metadata": {
      "needs_background": "light"
     },
     "output_type": "display_data"
    }
   ],
   "source": [
    "# Checking Learning Curves\n",
    "fig = plt.figure(figsize=(6,4))\n",
    "plot_learning_curves(lr, X_train_t_sc, X_val_t_sc, y_train_t, y_val_t)\n",
    "# plt.savefig('./figures/learningCurves.png');"
   ]
  },
  {
   "cell_type": "markdown",
   "metadata": {},
   "source": [
    "- The train and val curves converged, so we should be ok"
   ]
  },
  {
   "cell_type": "markdown",
   "metadata": {},
   "source": [
    "---"
   ]
  },
  {
   "cell_type": "markdown",
   "metadata": {},
   "source": [
    "### Do 10-fold Cross-Validation on Linear Regression"
   ]
  },
  {
   "cell_type": "code",
   "execution_count": 14,
   "metadata": {},
   "outputs": [
    {
     "name": "stdout",
     "output_type": "stream",
     "text": [
      "(356, 11)\n"
     ]
    },
    {
     "data": {
      "text/html": [
       "<div>\n",
       "<style scoped>\n",
       "    .dataframe tbody tr th:only-of-type {\n",
       "        vertical-align: middle;\n",
       "    }\n",
       "\n",
       "    .dataframe tbody tr th {\n",
       "        vertical-align: top;\n",
       "    }\n",
       "\n",
       "    .dataframe thead th {\n",
       "        text-align: right;\n",
       "    }\n",
       "</style>\n",
       "<table border=\"1\" class=\"dataframe\">\n",
       "  <thead>\n",
       "    <tr style=\"text-align: right;\">\n",
       "      <th></th>\n",
       "      <th>draftRnd</th>\n",
       "      <th>ht_inch</th>\n",
       "      <th>Wt</th>\n",
       "      <th>dash</th>\n",
       "      <th>yr1</th>\n",
       "      <th>yr2</th>\n",
       "      <th>yr3</th>\n",
       "      <th>yr4</th>\n",
       "      <th>pos_RB</th>\n",
       "      <th>pos_WR</th>\n",
       "      <th>draftStat_Yes</th>\n",
       "    </tr>\n",
       "  </thead>\n",
       "  <tbody>\n",
       "    <tr>\n",
       "      <th>10</th>\n",
       "      <td>7</td>\n",
       "      <td>68</td>\n",
       "      <td>237</td>\n",
       "      <td>4.47</td>\n",
       "      <td>2.2</td>\n",
       "      <td>65.1</td>\n",
       "      <td>0.0</td>\n",
       "      <td>31.9</td>\n",
       "      <td>1</td>\n",
       "      <td>0</td>\n",
       "      <td>1</td>\n",
       "    </tr>\n",
       "  </tbody>\n",
       "</table>\n",
       "</div>"
      ],
      "text/plain": [
       "    draftRnd  ht_inch   Wt  dash  yr1   yr2  yr3   yr4  pos_RB  pos_WR  \\\n",
       "10         7       68  237  4.47  2.2  65.1  0.0  31.9       1       0   \n",
       "\n",
       "    draftStat_Yes  \n",
       "10              1  "
      ]
     },
     "execution_count": 14,
     "metadata": {},
     "output_type": "execute_result"
    }
   ],
   "source": [
    "# Select columns to use or NOT use\n",
    "Xorig = df.drop(['pos_QB','draftStat_No', 'Salary_log1p'],axis=1)\n",
    "yorig = df['Salary_log1p']\n",
    "print(Xorig.shape)\n",
    "Xorig.sample()"
   ]
  },
  {
   "cell_type": "code",
   "execution_count": 15,
   "metadata": {},
   "outputs": [],
   "source": [
    "# Hold out 20% of the data for final testing: TRAIN and TEST\n",
    "X_train, X_test, y_train, y_test = train_test_split(Xorig, yorig, test_size=.2, random_state=10)\n"
   ]
  },
  {
   "cell_type": "code",
   "execution_count": 16,
   "metadata": {},
   "outputs": [
    {
     "name": "stdout",
     "output_type": "stream",
     "text": [
      "size of all observations:  (356, 11)\n",
      "size of training set    :  (284, 11)\n",
      "size of testing set     :  (72, 11)\n"
     ]
    }
   ],
   "source": [
    "print('size of all observations: ', Xorig.shape)\n",
    "print('size of training set    : ', X_train.shape)\n",
    "print('size of testing set     : ', X_test.shape)"
   ]
  },
  {
   "cell_type": "code",
   "execution_count": 17,
   "metadata": {},
   "outputs": [],
   "source": [
    "# Standard scaling\n",
    "sc = StandardScaler()\n",
    "sc.fit(X_train.values)\n",
    "X_train_sc = sc.transform(X_train)"
   ]
  },
  {
   "cell_type": "code",
   "execution_count": 19,
   "metadata": {},
   "outputs": [
    {
     "name": "stdout",
     "output_type": "stream",
     "text": [
      "r2   :  0.28489489400160434\n",
      "rmse :  0.6120823866384806\n"
     ]
    }
   ],
   "source": [
    "# Try kfold and CV\n",
    "\n",
    "kf = KFold(n_splits=10, shuffle=True, random_state = 71)\n",
    "cv_score_r2 = cross_val_score(lr, X_train_sc, y_train, cv=kf, scoring='r2')\n",
    "cv_score_mse = cross_val_score(lr, X_train_sc, y_train, cv=kf, scoring='neg_mean_squared_error')\n",
    "\n",
    "print('r2   : ', cv_score_r2.mean())\n",
    "print('rmse : ', np.sqrt(-cv_score_mse).mean())\n",
    "    "
   ]
  },
  {
   "cell_type": "markdown",
   "metadata": {},
   "source": [
    "---"
   ]
  },
  {
   "cell_type": "markdown",
   "metadata": {},
   "source": [
    "### Plotting residuals in the simple LR model\n",
    "- Check for odd patterns in the residuals"
   ]
  },
  {
   "cell_type": "code",
   "execution_count": 20,
   "metadata": {},
   "outputs": [],
   "source": [
    "# Standard Scaling\n",
    "sc = StandardScaler()\n",
    "sc.fit(X_train.values)\n",
    "X_train_sc = sc.transform(X_train)"
   ]
  },
  {
   "cell_type": "code",
   "execution_count": 21,
   "metadata": {},
   "outputs": [
    {
     "data": {
      "text/plain": [
       "LinearRegression(copy_X=True, fit_intercept=True, n_jobs=None,\n",
       "         normalize=False)"
      ]
     },
     "execution_count": 21,
     "metadata": {},
     "output_type": "execute_result"
    }
   ],
   "source": [
    "# Simple Linear Regression\n",
    "lr = LinearRegression()\n",
    "lr.fit(X_train_sc, y_train)\n"
   ]
  },
  {
   "cell_type": "code",
   "execution_count": 22,
   "metadata": {},
   "outputs": [
    {
     "data": {
      "image/png": "[encoded data removed]",
      "text/plain": [
       "<Figure size 432x288 with 1 Axes>"
      ]
     },
     "metadata": {
      "needs_background": "light"
     },
     "output_type": "display_data"
    }
   ],
   "source": [
    "# Residuals of the training data\n",
    "y_train_pred = lr.predict(X_train_sc)\n",
    "residuals = y_train - y_train_pred\n",
    "\n",
    "fig = plt.figure()\n",
    "plt.plot(y_train_pred, residuals, 'o')\n",
    "plt.ylabel('residuals')\n",
    "plt.xlabel('prediction');\n",
    "# fig.savefig('./figures/residuals_train_model.png')"
   ]
  },
  {
   "cell_type": "code",
   "execution_count": 23,
   "metadata": {},
   "outputs": [
    {
     "data": {
      "image/png": "[encoded data removed]",
      "text/plain": [
       "<Figure size 432x2304 with 11 Axes>"
      ]
     },
     "metadata": {
      "needs_background": "light"
     },
     "output_type": "display_data"
    }
   ],
   "source": [
    "# Plot residuals vs features\n",
    "\n",
    "labels = list(X_train.columns) \n",
    "# Residuals\n",
    "fig =plt.figure(figsize=(6,32))\n",
    "\n",
    "for ind, col in enumerate(range(X_train.shape[1])):    \n",
    "    plt.subplot(X_train.shape[1],2,ind+1)\n",
    "    sns.scatterplot(X_train.iloc[:,col], residuals)\n",
    "    plt.plot(X_train.iloc[:,col], residuals, 'o',markersize=2)\n",
    "    plt.title(labels[ind] )\n",
    "    plt.hlines(0, X_train.iloc[:,col].min(),X_train.iloc[:,col].max(), linestyles='--')\n",
    "plt.tight_layout()\n",
    "# fig.savefig('./figures/residuals_train_vs_variables')"
   ]
  },
  {
   "cell_type": "markdown",
   "metadata": {},
   "source": [
    "**Observations**:\n",
    "- There is some heteroskedacity in the residual plots, e.g., on yr1, yr2, etc.\n",
    "- Transformations of these variables are needed"
   ]
  },
  {
   "cell_type": "markdown",
   "metadata": {},
   "source": [
    "---"
   ]
  },
  {
   "cell_type": "markdown",
   "metadata": {},
   "source": [
    "### Transformations of Variables\n",
    "- try to transform some features that do not adopt normality"
   ]
  },
  {
   "cell_type": "code",
   "execution_count": 24,
   "metadata": {},
   "outputs": [],
   "source": [
    "def compareHist(x_normal, x_transformed):\n",
    "    plt.figure(figsize=(8,4))\n",
    "    plt.subplot(1,2,1)\n",
    "    plt.hist(x_normal)\n",
    "    plt.title('normal')\n",
    "    plt.subplot(1,2,2)\n",
    "    plt.hist(x_transformed)\n",
    "    plt.title('transformed')"
   ]
  },
  {
   "cell_type": "code",
   "execution_count": 25,
   "metadata": {},
   "outputs": [
    {
     "data": {
      "image/png": "[encoded data removed]",
      "text/plain": [
       "<Figure size 576x288 with 2 Axes>"
      ]
     },
     "metadata": {
      "needs_background": "light"
     },
     "output_type": "display_data"
    }
   ],
   "source": [
    "#  Check the Distribution of weight\n",
    "Wt_pt = power_transform(np.asarray(X_train['Wt']).reshape(-1,1),method='yeo-johnson' )\n",
    "compareHist(X_train.Wt, Wt_pt)\n",
    "# plt.savefig('./figures/transform_weight.png')"
   ]
  },
  {
   "cell_type": "code",
   "execution_count": 26,
   "metadata": {},
   "outputs": [
    {
     "data": {
      "image/png": "[encoded data removed]",
      "text/plain": [
       "<Figure size 576x288 with 2 Axes>"
      ]
     },
     "metadata": {
      "needs_background": "light"
     },
     "output_type": "display_data"
    }
   ],
   "source": [
    "# Check the Draft Round \n",
    "draftRnd_pt = power_transform(np.asarray(X_train['draftRnd']).reshape(-1,1),method='yeo-johnson' )\n",
    "compareHist(draftRnd_pt, X_train.draftRnd)\n",
    "# plt.savefig('./figures/transform_Rnd.png')"
   ]
  },
  {
   "cell_type": "code",
   "execution_count": 27,
   "metadata": {},
   "outputs": [
    {
     "data": {
      "image/png": "[encoded data removed]",
      "text/plain": [
       "<Figure size 576x288 with 2 Axes>"
      ]
     },
     "metadata": {
      "needs_background": "light"
     },
     "output_type": "display_data"
    }
   ],
   "source": [
    "# Check distribution of Height\n",
    "htinch_pt = power_transform(np.asarray(X_train['ht_inch']).reshape(-1,1),method='box-cox' )\n",
    "compareHist(htinch_pt, X_train['ht_inch'])"
   ]
  },
  {
   "cell_type": "code",
   "execution_count": 28,
   "metadata": {},
   "outputs": [
    {
     "data": {
      "image/png": "[encoded data removed]",
      "text/plain": [
       "<Figure size 576x288 with 2 Axes>"
      ]
     },
     "metadata": {
      "needs_background": "light"
     },
     "output_type": "display_data"
    }
   ],
   "source": [
    "# Check out the distribution of dash\n",
    "dash_pt = power_transform(np.asarray(X_train['dash']).reshape(-1,1),method='box-cox' )\n",
    "compareHist(X_train.dash, dash_pt)\n",
    "# plt.savefig('./figures/transform_dash.png')"
   ]
  },
  {
   "cell_type": "code",
   "execution_count": 29,
   "metadata": {},
   "outputs": [
    {
     "data": {
      "image/png": "[encoded data removed]",
      "text/plain": [
       "<Figure size 576x288 with 2 Axes>"
      ]
     },
     "metadata": {
      "needs_background": "light"
     },
     "output_type": "display_data"
    }
   ],
   "source": [
    "# Checkout the performance of YR1 after doing log transformation\n",
    "yr1_log = np.log1p(X_train.yr1)\n",
    "compareHist(X_train.yr1, yr1_log)\n",
    "# plt.savefig('./figures/transform_yr1.png')"
   ]
  },
  {
   "cell_type": "code",
   "execution_count": 30,
   "metadata": {},
   "outputs": [
    {
     "data": {
      "image/png": "[encoded data removed]",
      "text/plain": [
       "<Figure size 576x288 with 2 Axes>"
      ]
     },
     "metadata": {
      "needs_background": "light"
     },
     "output_type": "display_data"
    }
   ],
   "source": [
    "# Checkout the performance of YR2 after doing log transformation\n",
    "yr2_log = np.log1p(X_train.yr2)\n",
    "compareHist(X_train.yr2, yr2_log)\n",
    "# plt.savefig('./figures/transform_yr2.png')"
   ]
  },
  {
   "cell_type": "code",
   "execution_count": 31,
   "metadata": {},
   "outputs": [
    {
     "data": {
      "image/png": "[encoded data removed]",
      "text/plain": [
       "<Figure size 576x288 with 2 Axes>"
      ]
     },
     "metadata": {
      "needs_background": "light"
     },
     "output_type": "display_data"
    }
   ],
   "source": [
    "# Checkout the performance of YR3 after doing log transformation\n",
    "yr3_log = np.log1p(X_train.yr3)\n",
    "compareHist(X_train.yr3, yr3_log)\n",
    "# plt.savefig('./figures/transform_yr3.png')\n"
   ]
  },
  {
   "cell_type": "code",
   "execution_count": 32,
   "metadata": {},
   "outputs": [
    {
     "data": {
      "text/plain": [
       "<Figure size 432x288 with 0 Axes>"
      ]
     },
     "metadata": {},
     "output_type": "display_data"
    },
    {
     "data": {
      "image/png": "[encoded data removed]",
      "text/plain": [
       "<Figure size 576x288 with 2 Axes>"
      ]
     },
     "metadata": {
      "needs_background": "light"
     },
     "output_type": "display_data"
    }
   ],
   "source": [
    "# Checkout the performance of YR4 after doing log transformation\n",
    "fig = plt.figure()\n",
    "yr4_log = np.log1p(X_train.yr4)\n",
    "compareHist(X_train.yr4, yr4_log)\n",
    "# plt.savefig('./figures/transform_yr4.png')"
   ]
  },
  {
   "cell_type": "markdown",
   "metadata": {},
   "source": [
    "**Notes**:\n",
    "- Looks like applying log1p transformation on yr1,yr2, etc. made their distributions normal-ish. However, there's still huge amnt of zeros\n",
    "- Some other features need other types of transformations, e.g., box-cox for the 'dash' variable"
   ]
  },
  {
   "cell_type": "markdown",
   "metadata": {},
   "source": [
    "---"
   ]
  },
  {
   "cell_type": "markdown",
   "metadata": {},
   "source": [
    "### Making a copy of the dataframe with transformed features"
   ]
  },
  {
   "cell_type": "code",
   "execution_count": 33,
   "metadata": {},
   "outputs": [],
   "source": [
    "# Make a new copy of dataframe \n",
    "df_final = df.copy()"
   ]
  },
  {
   "cell_type": "code",
   "execution_count": 34,
   "metadata": {},
   "outputs": [],
   "source": [
    "# TRANSFORMATION LIST\n",
    "df_final['draftRnd_yj'] = power_transform(np.asarray(df_final['draftRnd']).reshape(-1,1), method='yeo-johnson')\n",
    "df_final['yr1_l1p'] = np.log1p(df.yr1)\n",
    "df_final['yr2_l1p'] = np.log1p(df.yr2)\n",
    "df_final['yr3_l1p'] = np.log1p(df.yr3)\n",
    "df_final['yr4_l1p'] = np.log1p(df.yr4)\n",
    "df_final['dash_bc'] = power_transform(np.asarray(df_final['dash']).reshape(-1,1), method='box-cox')\n"
   ]
  },
  {
   "cell_type": "code",
   "execution_count": 35,
   "metadata": {},
   "outputs": [
    {
     "name": "stdout",
     "output_type": "stream",
     "text": [
      "(356, 11)\n"
     ]
    },
    {
     "data": {
      "text/html": [
       "<div>\n",
       "<style scoped>\n",
       "    .dataframe tbody tr th:only-of-type {\n",
       "        vertical-align: middle;\n",
       "    }\n",
       "\n",
       "    .dataframe tbody tr th {\n",
       "        vertical-align: top;\n",
       "    }\n",
       "\n",
       "    .dataframe thead th {\n",
       "        text-align: right;\n",
       "    }\n",
       "</style>\n",
       "<table border=\"1\" class=\"dataframe\">\n",
       "  <thead>\n",
       "    <tr style=\"text-align: right;\">\n",
       "      <th></th>\n",
       "      <th>yr1_l1p</th>\n",
       "      <th>yr2_l1p</th>\n",
       "      <th>yr3_l1p</th>\n",
       "      <th>yr4_l1p</th>\n",
       "      <th>dash_bc</th>\n",
       "      <th>Wt</th>\n",
       "      <th>ht_inch</th>\n",
       "      <th>draftRnd_yj</th>\n",
       "      <th>pos_RB</th>\n",
       "      <th>pos_WR</th>\n",
       "      <th>draftStat_Yes</th>\n",
       "    </tr>\n",
       "  </thead>\n",
       "  <tbody>\n",
       "    <tr>\n",
       "      <th>97</th>\n",
       "      <td>4.343805</td>\n",
       "      <td>0.182322</td>\n",
       "      <td>3.958907</td>\n",
       "      <td>3.353407</td>\n",
       "      <td>-1.01341</td>\n",
       "      <td>219</td>\n",
       "      <td>71</td>\n",
       "      <td>0.792828</td>\n",
       "      <td>1</td>\n",
       "      <td>0</td>\n",
       "      <td>1</td>\n",
       "    </tr>\n",
       "  </tbody>\n",
       "</table>\n",
       "</div>"
      ],
      "text/plain": [
       "     yr1_l1p   yr2_l1p   yr3_l1p   yr4_l1p  dash_bc   Wt  ht_inch  \\\n",
       "97  4.343805  0.182322  3.958907  3.353407 -1.01341  219       71   \n",
       "\n",
       "    draftRnd_yj  pos_RB  pos_WR  draftStat_Yes  \n",
       "97     0.792828       1       0              1  "
      ]
     },
     "execution_count": 35,
     "metadata": {},
     "output_type": "execute_result"
    }
   ],
   "source": [
    "# Select columns to use or NOT use\n",
    "\n",
    "Xorig = df_final[['yr1_l1p','yr2_l1p','yr3_l1p','yr4_l1p','dash_bc','Wt','ht_inch','draftRnd_yj',\n",
    "                  'pos_RB','pos_WR','draftStat_Yes']]\n",
    "yorig = df_final['Salary_log1p']\n",
    "                  \n",
    "print(Xorig.shape)\n",
    "Xorig.sample()"
   ]
  },
  {
   "cell_type": "markdown",
   "metadata": {},
   "source": [
    "---"
   ]
  },
  {
   "cell_type": "markdown",
   "metadata": {},
   "source": [
    "### Find the best alphas for regularizations, using LassoCV and RidgeCV"
   ]
  },
  {
   "cell_type": "code",
   "execution_count": 38,
   "metadata": {},
   "outputs": [],
   "source": [
    "# Feature scale our X's \n",
    "scaler= StandardScaler()\n",
    "scaler.fit(X_train.values) #<< Only fit the X_train\n",
    "\n",
    "X_train_sc = scaler.transform(X_train.values)"
   ]
  },
  {
   "cell_type": "code",
   "execution_count": 39,
   "metadata": {},
   "outputs": [
    {
     "data": {
      "text/plain": [
       "ElasticNetCV(alphas=array([1.00000e-04, 1.09699e-04, ..., 9.11589e+03, 1.00000e+04]),\n",
       "       copy_X=True, cv=10, eps=0.001, fit_intercept=True, l1_ratio=0.5,\n",
       "       max_iter=1000, n_alphas=100, n_jobs=None, normalize=False,\n",
       "       positive=False, precompute='auto', random_state=None,\n",
       "       selection='cyclic', tol=0.0001, verbose=0)"
      ]
     },
     "execution_count": 39,
     "metadata": {},
     "output_type": "execute_result"
    }
   ],
   "source": [
    "alphavec = 10**np.linspace(-4,4,200)\n",
    "\n",
    "lasso_model = LassoCV(alphas = alphavec, cv=10,)\n",
    "lasso_model.fit(X_train_sc, y_train)\n",
    "\n",
    "ridge_model = RidgeCV(alphas = alphavec, cv=10, )\n",
    "ridge_model.fit(X_train_sc, y_train)\n",
    "\n",
    "eln_model = ElasticNetCV(alphas = alphavec, cv=10, )\n",
    "eln_model.fit(X_train_sc, y_train)"
   ]
  },
  {
   "cell_type": "code",
   "execution_count": 40,
   "metadata": {},
   "outputs": [
    {
     "data": {
      "text/plain": [
       "0.03409285069746811"
      ]
     },
     "execution_count": 40,
     "metadata": {},
     "output_type": "execute_result"
    }
   ],
   "source": [
    "best_alpha_lasso = lasso_model.alpha_\n",
    "best_alpha_lasso"
   ]
  },
  {
   "cell_type": "code",
   "execution_count": 41,
   "metadata": {},
   "outputs": [
    {
     "data": {
      "text/plain": [
       "246.5811075822604"
      ]
     },
     "execution_count": 41,
     "metadata": {},
     "output_type": "execute_result"
    }
   ],
   "source": [
    "best_alpha_ridge = ridge_model.alpha_\n",
    "best_alpha_ridge"
   ]
  },
  {
   "cell_type": "code",
   "execution_count": 42,
   "metadata": {},
   "outputs": [
    {
     "data": {
      "text/plain": [
       "0.07842822061337681"
      ]
     },
     "execution_count": 42,
     "metadata": {},
     "output_type": "execute_result"
    }
   ],
   "source": [
    "best_alpha_eln = eln_model.alpha_\n",
    "best_alpha_eln"
   ]
  },
  {
   "cell_type": "markdown",
   "metadata": {},
   "source": [
    "### NOW, apply different learning models on the dataset"
   ]
  },
  {
   "cell_type": "code",
   "execution_count": 43,
   "metadata": {},
   "outputs": [
    {
     "name": "stdout",
     "output_type": "stream",
     "text": [
      "CV for LR: 0.627757 std(0.144712)\n",
      "CV for LR-lasso: 0.618014 std(0.145473)\n",
      "CV for LR-ridge: 0.615051 std(0.126959)\n",
      "CV for Eln: 0.616572 std(0.142806)\n",
      "CV for RandForest: 0.634020 std(0.124780)\n",
      "CV for DecisionTree: 0.906804 std(0.220575)\n",
      "CV for Bagging: 0.651534 std(0.169620)\n"
     ]
    }
   ],
   "source": [
    "# Make Dictionary of different models\n",
    "models = {\n",
    "        'LR': LinearRegression(),\n",
    "        'LR-lasso': Lasso(best_alpha_lasso),\n",
    "        'LR-ridge': Ridge(best_alpha_ridge),\n",
    "        'Eln' : ElasticNet(best_alpha_eln),\n",
    "        'RandForest': RandomForestRegressor(),\n",
    "        'DecisionTree': DecisionTreeRegressor(),\n",
    "        'Bagging' : BaggingRegressor(),\n",
    "         }\n",
    "         \n",
    "\n",
    "# Parameters\n",
    "seed = 7\n",
    "scoring = 'neg_mean_squared_error'\n",
    "\n",
    "# Evaluation\n",
    "results =[]\n",
    "names =[]\n",
    "summary=[]\n",
    "residuals = []\n",
    "\n",
    "\n",
    "for name, model in models.items():\n",
    "    \n",
    "    # Setup Kfold and CV\n",
    "    kfold = KFold(n_splits=10, random_state= seed)\n",
    "    cv_results = cross_val_score(model, X_train_sc, y_train, cv= kfold, scoring=scoring)\n",
    "    \n",
    "    results.append(cv_results)\n",
    "    names.append(name)\n",
    "    \n",
    "    # Setup summary table\n",
    "    for fold_id, cv in enumerate(cv_results):\n",
    "        summary.append((name, fold_id,  np.sqrt(-cv)))\n",
    "\n",
    "    msg = \"CV for %s: %f std(%f)\" %(name, np.sqrt(-cv_results).mean(), cv_results.std())\n",
    "    print(msg)\n",
    "    \n",
    "df_sum = pd.DataFrame(summary, columns=['names', 'fold_idx', 'rmse'])"
   ]
  },
  {
   "cell_type": "code",
   "execution_count": 44,
   "metadata": {},
   "outputs": [
    {
     "data": {
      "text/html": [
       "<div>\n",
       "<style scoped>\n",
       "    .dataframe tbody tr th:only-of-type {\n",
       "        vertical-align: middle;\n",
       "    }\n",
       "\n",
       "    .dataframe tbody tr th {\n",
       "        vertical-align: top;\n",
       "    }\n",
       "\n",
       "    .dataframe thead th {\n",
       "        text-align: right;\n",
       "    }\n",
       "</style>\n",
       "<table border=\"1\" class=\"dataframe\">\n",
       "  <thead>\n",
       "    <tr style=\"text-align: right;\">\n",
       "      <th></th>\n",
       "      <th>names</th>\n",
       "      <th>fold_idx</th>\n",
       "      <th>rmse</th>\n",
       "    </tr>\n",
       "  </thead>\n",
       "  <tbody>\n",
       "    <tr>\n",
       "      <th>50</th>\n",
       "      <td>DecisionTree</td>\n",
       "      <td>0</td>\n",
       "      <td>0.809872</td>\n",
       "    </tr>\n",
       "    <tr>\n",
       "      <th>10</th>\n",
       "      <td>LR-lasso</td>\n",
       "      <td>0</td>\n",
       "      <td>0.557806</td>\n",
       "    </tr>\n",
       "    <tr>\n",
       "      <th>49</th>\n",
       "      <td>RandForest</td>\n",
       "      <td>9</td>\n",
       "      <td>0.608344</td>\n",
       "    </tr>\n",
       "    <tr>\n",
       "      <th>5</th>\n",
       "      <td>LR</td>\n",
       "      <td>5</td>\n",
       "      <td>0.471171</td>\n",
       "    </tr>\n",
       "    <tr>\n",
       "      <th>8</th>\n",
       "      <td>LR</td>\n",
       "      <td>8</td>\n",
       "      <td>0.616467</td>\n",
       "    </tr>\n",
       "  </tbody>\n",
       "</table>\n",
       "</div>"
      ],
      "text/plain": [
       "           names  fold_idx      rmse\n",
       "50  DecisionTree         0  0.809872\n",
       "10      LR-lasso         0  0.557806\n",
       "49    RandForest         9  0.608344\n",
       "5             LR         5  0.471171\n",
       "8             LR         8  0.616467"
      ]
     },
     "execution_count": 44,
     "metadata": {},
     "output_type": "execute_result"
    }
   ],
   "source": [
    "df_sum.sample(5)"
   ]
  },
  {
   "cell_type": "code",
   "execution_count": 45,
   "metadata": {},
   "outputs": [
    {
     "data": {
      "text/html": [
       "<div>\n",
       "<style scoped>\n",
       "    .dataframe tbody tr th:only-of-type {\n",
       "        vertical-align: middle;\n",
       "    }\n",
       "\n",
       "    .dataframe tbody tr th {\n",
       "        vertical-align: top;\n",
       "    }\n",
       "\n",
       "    .dataframe thead th {\n",
       "        text-align: right;\n",
       "    }\n",
       "</style>\n",
       "<table border=\"1\" class=\"dataframe\">\n",
       "  <thead>\n",
       "    <tr style=\"text-align: right;\">\n",
       "      <th></th>\n",
       "      <th>rmse</th>\n",
       "    </tr>\n",
       "    <tr>\n",
       "      <th>names</th>\n",
       "      <th></th>\n",
       "    </tr>\n",
       "  </thead>\n",
       "  <tbody>\n",
       "    <tr>\n",
       "      <th>LR-ridge</th>\n",
       "      <td>0.615051</td>\n",
       "    </tr>\n",
       "    <tr>\n",
       "      <th>Eln</th>\n",
       "      <td>0.616572</td>\n",
       "    </tr>\n",
       "    <tr>\n",
       "      <th>LR-lasso</th>\n",
       "      <td>0.618014</td>\n",
       "    </tr>\n",
       "    <tr>\n",
       "      <th>LR</th>\n",
       "      <td>0.627757</td>\n",
       "    </tr>\n",
       "    <tr>\n",
       "      <th>RandForest</th>\n",
       "      <td>0.634020</td>\n",
       "    </tr>\n",
       "    <tr>\n",
       "      <th>Bagging</th>\n",
       "      <td>0.651534</td>\n",
       "    </tr>\n",
       "    <tr>\n",
       "      <th>DecisionTree</th>\n",
       "      <td>0.906804</td>\n",
       "    </tr>\n",
       "  </tbody>\n",
       "</table>\n",
       "</div>"
      ],
      "text/plain": [
       "                  rmse\n",
       "names                 \n",
       "LR-ridge      0.615051\n",
       "Eln           0.616572\n",
       "LR-lasso      0.618014\n",
       "LR            0.627757\n",
       "RandForest    0.634020\n",
       "Bagging       0.651534\n",
       "DecisionTree  0.906804"
      ]
     },
     "execution_count": 45,
     "metadata": {},
     "output_type": "execute_result"
    }
   ],
   "source": [
    "# Which one performs best?\n",
    "df_sum.groupby('names')[['rmse']].mean().sort_values(by='rmse',ascending=True)"
   ]
  },
  {
   "cell_type": "code",
   "execution_count": 46,
   "metadata": {},
   "outputs": [
    {
     "data": {
      "image/png": "[encoded data removed]",
      "text/plain": [
       "<Figure size 864x432 with 1 Axes>"
      ]
     },
     "metadata": {
      "needs_background": "light"
     },
     "output_type": "display_data"
    }
   ],
   "source": [
    "# Plotting the performance of algorithms\n",
    "\n",
    "fig = plt.figure(figsize=(12,6))\n",
    "sns.boxplot(x = 'names', y= 'rmse', data=df_sum)\n",
    "sns.stripplot(x= 'names', y= 'rmse', data=df_sum, jitter=True, edgecolor=\"gray\", alpha = 0.3,linewidth=2)\n",
    "\n",
    "# plt.hlines(df_R2.groupby('names').mean().loc[['LR-lasso']].accuracy, -1, 8, linestyles='dotted')\n",
    "plt.title('Model Comparison (Performed w/ 10-fold CV)')\n",
    "plt.ylabel('RMSE')\n",
    "plt.xlabel('Model')\n",
    "plt.xticks(range(0,7),['LR','LR-\\nLasso','LR-\\nRidge','ElasticNet','Random\\nForest','Decision\\nTree',\n",
    "                      'Bagging']);\n",
    "# plt.grid(which='major', axis='y',)\n",
    "# fig.savefig('Compare10fold-2.png', bbox_inches='tight')\n",
    "# plt.show()\n",
    "# fig.savefig('./figures/Alg_comparison_RMSE.png')"
   ]
  },
  {
   "cell_type": "markdown",
   "metadata": {},
   "source": [
    "- The performance of linear regression models (w/ & w/o regularizations) are fairly similar\n",
    "- Linear regressors are still better than tree-based regressors, at least out of the box (w/o Hyperparametric tuning)"
   ]
  },
  {
   "cell_type": "markdown",
   "metadata": {},
   "source": [
    "---"
   ]
  },
  {
   "cell_type": "markdown",
   "metadata": {},
   "source": [
    "### Which features are important according to Random Forest?"
   ]
  },
  {
   "cell_type": "code",
   "execution_count": 47,
   "metadata": {},
   "outputs": [
    {
     "data": {
      "text/plain": [
       "RandomForestRegressor(bootstrap=True, criterion='mse', max_depth=None,\n",
       "           max_features='auto', max_leaf_nodes=None,\n",
       "           min_impurity_decrease=0.0, min_impurity_split=None,\n",
       "           min_samples_leaf=1, min_samples_split=2,\n",
       "           min_weight_fraction_leaf=0.0, n_estimators=10, n_jobs=None,\n",
       "           oob_score=False, random_state=None, verbose=0, warm_start=False)"
      ]
     },
     "execution_count": 47,
     "metadata": {},
     "output_type": "execute_result"
    }
   ],
   "source": [
    "# Investigate look at features of importance in Random Forest Regressor\n",
    "RF = RandomForestRegressor()\n",
    "RF.fit(X_train_sc,y_train)"
   ]
  },
  {
   "cell_type": "code",
   "execution_count": 48,
   "metadata": {},
   "outputs": [
    {
     "data": {
      "text/html": [
       "<div>\n",
       "<style scoped>\n",
       "    .dataframe tbody tr th:only-of-type {\n",
       "        vertical-align: middle;\n",
       "    }\n",
       "\n",
       "    .dataframe tbody tr th {\n",
       "        vertical-align: top;\n",
       "    }\n",
       "\n",
       "    .dataframe thead th {\n",
       "        text-align: right;\n",
       "    }\n",
       "</style>\n",
       "<table border=\"1\" class=\"dataframe\">\n",
       "  <thead>\n",
       "    <tr style=\"text-align: right;\">\n",
       "      <th></th>\n",
       "      <th>Features</th>\n",
       "      <th>Importance</th>\n",
       "    </tr>\n",
       "  </thead>\n",
       "  <tbody>\n",
       "    <tr>\n",
       "      <th>6</th>\n",
       "      <td>yr3</td>\n",
       "      <td>0.339033</td>\n",
       "    </tr>\n",
       "    <tr>\n",
       "      <th>7</th>\n",
       "      <td>yr4</td>\n",
       "      <td>0.180501</td>\n",
       "    </tr>\n",
       "    <tr>\n",
       "      <th>5</th>\n",
       "      <td>yr2</td>\n",
       "      <td>0.096417</td>\n",
       "    </tr>\n",
       "    <tr>\n",
       "      <th>4</th>\n",
       "      <td>yr1</td>\n",
       "      <td>0.093718</td>\n",
       "    </tr>\n",
       "    <tr>\n",
       "      <th>3</th>\n",
       "      <td>dash</td>\n",
       "      <td>0.069632</td>\n",
       "    </tr>\n",
       "    <tr>\n",
       "      <th>0</th>\n",
       "      <td>draftRnd</td>\n",
       "      <td>0.068555</td>\n",
       "    </tr>\n",
       "    <tr>\n",
       "      <th>1</th>\n",
       "      <td>ht_inch</td>\n",
       "      <td>0.062043</td>\n",
       "    </tr>\n",
       "    <tr>\n",
       "      <th>2</th>\n",
       "      <td>Wt</td>\n",
       "      <td>0.061955</td>\n",
       "    </tr>\n",
       "    <tr>\n",
       "      <th>8</th>\n",
       "      <td>pos_RB</td>\n",
       "      <td>0.018305</td>\n",
       "    </tr>\n",
       "    <tr>\n",
       "      <th>9</th>\n",
       "      <td>pos_WR</td>\n",
       "      <td>0.008179</td>\n",
       "    </tr>\n",
       "    <tr>\n",
       "      <th>10</th>\n",
       "      <td>draftStat_Yes</td>\n",
       "      <td>0.001661</td>\n",
       "    </tr>\n",
       "  </tbody>\n",
       "</table>\n",
       "</div>"
      ],
      "text/plain": [
       "         Features  Importance\n",
       "6             yr3    0.339033\n",
       "7             yr4    0.180501\n",
       "5             yr2    0.096417\n",
       "4             yr1    0.093718\n",
       "3            dash    0.069632\n",
       "0        draftRnd    0.068555\n",
       "1         ht_inch    0.062043\n",
       "2              Wt    0.061955\n",
       "8          pos_RB    0.018305\n",
       "9          pos_WR    0.008179\n",
       "10  draftStat_Yes    0.001661"
      ]
     },
     "execution_count": 48,
     "metadata": {},
     "output_type": "execute_result"
    }
   ],
   "source": [
    "df_rf = pd.DataFrame(np.c_[list(X_train.columns), list(RF.feature_importances_)], columns =['Features','Importance'])\n",
    "df_rf['Importance'] = df_rf['Importance'].astype(float)\n",
    "df_rf.sort_values(by='Importance', ascending=False)"
   ]
  },
  {
   "cell_type": "code",
   "execution_count": 49,
   "metadata": {},
   "outputs": [
    {
     "data": {
      "text/plain": [
       "Text(0.5, 0, 'Importance')"
      ]
     },
     "execution_count": 49,
     "metadata": {},
     "output_type": "execute_result"
    },
    {
     "data": {
      "text/plain": [
       "<Figure size 432x288 with 0 Axes>"
      ]
     },
     "metadata": {},
     "output_type": "display_data"
    },
    {
     "data": {
      "image/png": "[encoded data removed]",
      "text/plain": [
       "<Figure size 288x432 with 1 Axes>"
      ]
     },
     "metadata": {
      "needs_background": "light"
     },
     "output_type": "display_data"
    }
   ],
   "source": [
    "# Plot features of importance\n",
    "fig=plt.figure()\n",
    "df_rf.sort_values(by='Importance',ascending=True).plot.barh(x='Features',y='Importance',\n",
    "                                                            figsize=(4,6))\n",
    "plt.legend(loc='lower right')\n",
    "plt.title('Features of Importance in Random Forest')\n",
    "plt.xlabel('Importance')\n",
    "# plt.savefig('./figures/RF_featuresImportance.png')"
   ]
  },
  {
   "cell_type": "markdown",
   "metadata": {},
   "source": [
    "- It seems to make sense, players' Year3 and Year4 performance are the most important factor in the model's salary prediction "
   ]
  },
  {
   "cell_type": "markdown",
   "metadata": {},
   "source": [
    "---"
   ]
  },
  {
   "cell_type": "markdown",
   "metadata": {},
   "source": [
    "### Try investigate R2 among different models"
   ]
  },
  {
   "cell_type": "code",
   "execution_count": 50,
   "metadata": {},
   "outputs": [
    {
     "name": "stdout",
     "output_type": "stream",
     "text": [
      "CV for LR: 0.152111 std(0.293704)\n",
      "CV for LR-lasso: 0.196092 std(0.241185)\n",
      "CV for LR-ridge: 0.214901 std(0.181721)\n",
      "CV for Eln: 0.202783 std(0.229288)\n",
      "CV for RandForest: 0.111636 std(0.307622)\n",
      "CV for DecisionTreeRegressor: -0.722706 std(0.698163)\n",
      "CV for Bagging: 0.049735 std(0.319320)\n"
     ]
    }
   ],
   "source": [
    "# Make Dictionary of different models\n",
    "models = {\n",
    "        'LR': LinearRegression(),\n",
    "        'LR-lasso': Lasso(best_alpha_lasso),\n",
    "        'LR-ridge': Ridge(best_alpha_ridge),\n",
    "        'Eln' : ElasticNet(best_alpha_eln),\n",
    "        'RandForest': RandomForestRegressor(),\n",
    "        'DecisionTreeRegressor': DecisionTreeRegressor(),\n",
    "        'Bagging' : BaggingRegressor(),\n",
    "#         'DecisionTree': DecisionTreeRegressor()\n",
    "         }\n",
    "         \n",
    "# Parameters\n",
    "seed = 7\n",
    "scoring = 'r2'\n",
    "\n",
    "# Evaluation\n",
    "results =[]\n",
    "names =[]\n",
    "summary=[]\n",
    "residuals = []\n",
    "\n",
    "\n",
    "for name, model in models.items():\n",
    "    \n",
    "    # Setup Kfold and CV\n",
    "    kfold = KFold(n_splits=10, random_state= seed)\n",
    "    cv_results = cross_val_score(model, X_train_sc, y_train, cv= kfold, scoring=scoring)\n",
    "    \n",
    "    results.append(cv_results)\n",
    "    names.append(name)\n",
    "    \n",
    "    # Setup summary table\n",
    "    for fold_id, cv in enumerate(cv_results):\n",
    "        summary.append((name, fold_id,  cv))\n",
    "\n",
    "    msg = \"CV for %s: %f std(%f)\" %(name, cv_results.mean(), cv_results.std())\n",
    "    print(msg)\n",
    "    \n",
    "df_sum = pd.DataFrame(summary, columns=['names', 'fold_idx', 'r2'])"
   ]
  },
  {
   "cell_type": "code",
   "execution_count": 51,
   "metadata": {},
   "outputs": [
    {
     "data": {
      "text/html": [
       "<div>\n",
       "<style scoped>\n",
       "    .dataframe tbody tr th:only-of-type {\n",
       "        vertical-align: middle;\n",
       "    }\n",
       "\n",
       "    .dataframe tbody tr th {\n",
       "        vertical-align: top;\n",
       "    }\n",
       "\n",
       "    .dataframe thead th {\n",
       "        text-align: right;\n",
       "    }\n",
       "</style>\n",
       "<table border=\"1\" class=\"dataframe\">\n",
       "  <thead>\n",
       "    <tr style=\"text-align: right;\">\n",
       "      <th></th>\n",
       "      <th>r2</th>\n",
       "    </tr>\n",
       "    <tr>\n",
       "      <th>names</th>\n",
       "      <th></th>\n",
       "    </tr>\n",
       "  </thead>\n",
       "  <tbody>\n",
       "    <tr>\n",
       "      <th>LR-ridge</th>\n",
       "      <td>0.214901</td>\n",
       "    </tr>\n",
       "    <tr>\n",
       "      <th>Eln</th>\n",
       "      <td>0.202783</td>\n",
       "    </tr>\n",
       "    <tr>\n",
       "      <th>LR-lasso</th>\n",
       "      <td>0.196092</td>\n",
       "    </tr>\n",
       "    <tr>\n",
       "      <th>LR</th>\n",
       "      <td>0.152111</td>\n",
       "    </tr>\n",
       "    <tr>\n",
       "      <th>RandForest</th>\n",
       "      <td>0.111636</td>\n",
       "    </tr>\n",
       "    <tr>\n",
       "      <th>Bagging</th>\n",
       "      <td>0.049735</td>\n",
       "    </tr>\n",
       "    <tr>\n",
       "      <th>DecisionTreeRegressor</th>\n",
       "      <td>-0.722706</td>\n",
       "    </tr>\n",
       "  </tbody>\n",
       "</table>\n",
       "</div>"
      ],
      "text/plain": [
       "                             r2\n",
       "names                          \n",
       "LR-ridge               0.214901\n",
       "Eln                    0.202783\n",
       "LR-lasso               0.196092\n",
       "LR                     0.152111\n",
       "RandForest             0.111636\n",
       "Bagging                0.049735\n",
       "DecisionTreeRegressor -0.722706"
      ]
     },
     "execution_count": 51,
     "metadata": {},
     "output_type": "execute_result"
    }
   ],
   "source": [
    "df_sum.groupby('names')[['r2']].mean().sort_values(by='r2',ascending=False)"
   ]
  },
  {
   "cell_type": "code",
   "execution_count": 52,
   "metadata": {},
   "outputs": [
    {
     "data": {
      "image/png": "[encoded data removed]",
      "text/plain": [
       "<Figure size 864x432 with 1 Axes>"
      ]
     },
     "metadata": {
      "needs_background": "light"
     },
     "output_type": "display_data"
    }
   ],
   "source": [
    "# Comparing the performance of algorithms\n",
    "\n",
    "fig = plt.figure(figsize=(12,6))\n",
    "sns.boxplot(x = 'names', y= 'r2', data=df_sum)\n",
    "sns.stripplot(x= 'names', y= 'r2', data=df_sum, jitter=True, edgecolor=\"gray\", alpha = 0.3,linewidth=2)\n",
    "\n",
    "# plt.hlines(df_R2.groupby('names').mean().loc[['LR-lasso']].accuracy, -1, 8, linestyles='dotted')\n",
    "plt.title('Comparison of Algorithms (w/ 10-fold CV)')\n",
    "plt.ylabel('R2')\n",
    "# plt.grid(which='major', axis='y',)\n",
    "# fig.savefig('Compare10fold-2.png', bbox_inches='tight')\n",
    "plt.show()\n",
    "# fig.savefig('./figures/Alg_comparison_r2.png')"
   ]
  },
  {
   "cell_type": "markdown",
   "metadata": {},
   "source": [
    "- Consistent with the previous plot, linear regressors have better R2 values than tree-based models "
   ]
  },
  {
   "cell_type": "markdown",
   "metadata": {},
   "source": [
    "---"
   ]
  },
  {
   "cell_type": "markdown",
   "metadata": {},
   "source": [
    "Notes:\n",
    "- All Linear Regression Models are generally comparable\n",
    "- However, the ridge regression has smaller standard deviation\n",
    "- Let's just pick the simplest linear regression model (unregularized)"
   ]
  },
  {
   "cell_type": "markdown",
   "metadata": {},
   "source": [
    "---"
   ]
  }
 ],
 "metadata": {
  "kernelspec": {
   "display_name": "Python 3",
   "language": "python",
   "name": "python3"
  },
  "language_info": {
   "codemirror_mode": {
    "name": "ipython",
    "version": 3
   },
   "file_extension": ".py",
   "mimetype": "text/x-python",
   "name": "python",
   "nbconvert_exporter": "python",
   "pygments_lexer": "ipython3",
   "version": "3.7.0"
  }
 },
 "nbformat": 4,
 "nbformat_minor": 2
}
