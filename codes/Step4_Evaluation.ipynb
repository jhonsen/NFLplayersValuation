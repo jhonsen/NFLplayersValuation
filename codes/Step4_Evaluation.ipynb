{
 "cells": [
  {
   "cell_type": "markdown",
   "metadata": {},
   "source": [
    "# Step4. Evaluating Linear Regression Model"
   ]
  },
  {
   "cell_type": "markdown",
   "metadata": {},
   "source": [
    "Goal: \n",
    "- Use the best model (in Step 3) and evaluate its performance"
   ]
  },
  {
   "cell_type": "code",
   "execution_count": 1,
   "metadata": {},
   "outputs": [],
   "source": [
    "import pandas as pd\n",
    "import numpy as np\n",
    "import matplotlib.pyplot as plt\n",
    "import seaborn as sns\n",
    "\n",
    "from sklearn.linear_model import LinearRegression, Ridge, Lasso, ElasticNet\n",
    "from sklearn.linear_model import RidgeCV, LassoCV, ElasticNetCV\n",
    "from sklearn.model_selection import train_test_split, KFold, cross_val_score\n",
    "from sklearn.preprocessing import StandardScaler, PolynomialFeatures\n",
    "from sklearn.metrics import mean_squared_error, r2_score\n",
    "from sklearn.pipeline import make_pipeline, Pipeline\n",
    "from sklearn.preprocessing import power_transform\n",
    "from sklearn.tree import DecisionTreeRegressor\n",
    "from sklearn.ensemble import BaggingRegressor, RandomForestRegressor\n",
    "\n",
    "from ScrapeProcFunc import *\n",
    "\n",
    "import warnings\n",
    "warnings.simplefilter('ignore')"
   ]
  },
  {
   "cell_type": "code",
   "execution_count": 2,
   "metadata": {},
   "outputs": [],
   "source": [
    "# Import dataset\n",
    "df = pd.read_csv('./data/Allplayers.csv', index_col=0)"
   ]
  },
  {
   "cell_type": "code",
   "execution_count": 3,
   "metadata": {},
   "outputs": [
    {
     "name": "stdout",
     "output_type": "stream",
     "text": [
      "(356, 11)\n"
     ]
    },
    {
     "data": {
      "text/html": [
       "<div>\n",
       "<style scoped>\n",
       "    .dataframe tbody tr th:only-of-type {\n",
       "        vertical-align: middle;\n",
       "    }\n",
       "\n",
       "    .dataframe tbody tr th {\n",
       "        vertical-align: top;\n",
       "    }\n",
       "\n",
       "    .dataframe thead th {\n",
       "        text-align: right;\n",
       "    }\n",
       "</style>\n",
       "<table border=\"1\" class=\"dataframe\">\n",
       "  <thead>\n",
       "    <tr style=\"text-align: right;\">\n",
       "      <th></th>\n",
       "      <th>draftRnd</th>\n",
       "      <th>ht_inch</th>\n",
       "      <th>Wt</th>\n",
       "      <th>dash</th>\n",
       "      <th>yr1</th>\n",
       "      <th>yr2</th>\n",
       "      <th>yr3</th>\n",
       "      <th>yr4</th>\n",
       "      <th>pos_RB</th>\n",
       "      <th>pos_WR</th>\n",
       "      <th>draftStat_Yes</th>\n",
       "    </tr>\n",
       "  </thead>\n",
       "  <tbody>\n",
       "    <tr>\n",
       "      <th>169</th>\n",
       "      <td>0</td>\n",
       "      <td>74</td>\n",
       "      <td>214</td>\n",
       "      <td>4.65</td>\n",
       "      <td>0.0</td>\n",
       "      <td>0.0</td>\n",
       "      <td>0.0</td>\n",
       "      <td>0.0</td>\n",
       "      <td>0</td>\n",
       "      <td>1</td>\n",
       "      <td>0</td>\n",
       "    </tr>\n",
       "  </tbody>\n",
       "</table>\n",
       "</div>"
      ],
      "text/plain": [
       "     draftRnd  ht_inch   Wt  dash  yr1  yr2  yr3  yr4  pos_RB  pos_WR  \\\n",
       "169         0       74  214  4.65  0.0  0.0  0.0  0.0       0       1   \n",
       "\n",
       "     draftStat_Yes  \n",
       "169              0  "
      ]
     },
     "execution_count": 3,
     "metadata": {},
     "output_type": "execute_result"
    }
   ],
   "source": [
    "# Select columns to use or NOT use\n",
    "Xorig = df.drop(['pos_QB','draftStat_No', 'Salary_log1p'],axis=1)\n",
    "yorig = df['Salary_log1p']\n",
    "\n",
    "print(Xorig.shape)\n",
    "Xorig.sample()"
   ]
  },
  {
   "cell_type": "code",
   "execution_count": 5,
   "metadata": {},
   "outputs": [],
   "source": [
    "# Hold out 20% of the data for final testing: TRAIN and TEST\n",
    "X_train, X_test, y_train, y_test = train_test_split(Xorig, yorig, test_size=.2, random_state=10)\n"
   ]
  },
  {
   "cell_type": "markdown",
   "metadata": {},
   "source": [
    "### Selecting the best model to use for the Test Set\n",
    "### >>>>>> Simple Linear Regression <<<<<<\n",
    "- Now, use this model to train on the entire dataset, and make predictions on the **test set**"
   ]
  },
  {
   "cell_type": "code",
   "execution_count": 6,
   "metadata": {},
   "outputs": [],
   "source": [
    "sc = StandardScaler()\n",
    "sc.fit(X_train.values)\n",
    "X_train_sc = sc.transform(X_train)\n",
    "X_test_sc = sc.transform(X_test)"
   ]
  },
  {
   "cell_type": "code",
   "execution_count": 7,
   "metadata": {},
   "outputs": [
    {
     "data": {
      "text/plain": [
       "LinearRegression(copy_X=True, fit_intercept=True, n_jobs=None,\n",
       "         normalize=False)"
      ]
     },
     "execution_count": 7,
     "metadata": {},
     "output_type": "execute_result"
    }
   ],
   "source": [
    "# Training on the entire training set\n",
    "simple_lr = LinearRegression()\n",
    "simple_lr.fit(X_train_sc, y_train)"
   ]
  },
  {
   "cell_type": "code",
   "execution_count": 8,
   "metadata": {},
   "outputs": [],
   "source": [
    "# Testing on the TEST SET.....!\n",
    "y_test_pred = simple_lr.predict(X_test_sc)\n",
    "test_residuals = y_test - y_test_pred"
   ]
  },
  {
   "cell_type": "code",
   "execution_count": 14,
   "metadata": {},
   "outputs": [
    {
     "name": "stdout",
     "output_type": "stream",
     "text": [
      "RMSE of Test Set:  0.6244911797016752\n",
      "R2   of Test Set:  0.3501001200726309\n"
     ]
    }
   ],
   "source": [
    "# Final result \n",
    "\n",
    "y_test_pred = simple_lr.predict(X_test_sc)\n",
    "\n",
    "rmse_final = np.sqrt(mean_squared_error(y_test, y_test_pred))\n",
    "r2_result = r2_score(np.asarray(y_test), np.asarray(y_test_pred))\n",
    "\n",
    "print('RMSE of Test Set: ', rmse_final)\n",
    "print('R2   of Test Set: ', r2_result)"
   ]
  },
  {
   "cell_type": "markdown",
   "metadata": {},
   "source": [
    "**RESULT:**\n",
    "- It's an OK model, considering it's just a simple multivariate linear regression model \n",
    "- low R2, but it's a good start! and definitely better than random guessing (R2 =0)"
   ]
  },
  {
   "cell_type": "markdown",
   "metadata": {},
   "source": [
    "---"
   ]
  },
  {
   "cell_type": "markdown",
   "metadata": {},
   "source": [
    "### Now convert prediction result into Salaries in USD"
   ]
  },
  {
   "cell_type": "code",
   "execution_count": 15,
   "metadata": {},
   "outputs": [
    {
     "data": {
      "text/html": [
       "<div>\n",
       "<style scoped>\n",
       "    .dataframe tbody tr th:only-of-type {\n",
       "        vertical-align: middle;\n",
       "    }\n",
       "\n",
       "    .dataframe tbody tr th {\n",
       "        vertical-align: top;\n",
       "    }\n",
       "\n",
       "    .dataframe thead th {\n",
       "        text-align: right;\n",
       "    }\n",
       "</style>\n",
       "<table border=\"1\" class=\"dataframe\">\n",
       "  <thead>\n",
       "    <tr style=\"text-align: right;\">\n",
       "      <th></th>\n",
       "      <th>Salary</th>\n",
       "    </tr>\n",
       "  </thead>\n",
       "  <tbody>\n",
       "    <tr>\n",
       "      <th>27</th>\n",
       "      <td>900715.00</td>\n",
       "    </tr>\n",
       "    <tr>\n",
       "      <th>20</th>\n",
       "      <td>893466.75</td>\n",
       "    </tr>\n",
       "    <tr>\n",
       "      <th>37</th>\n",
       "      <td>600600.00</td>\n",
       "    </tr>\n",
       "    <tr>\n",
       "      <th>6</th>\n",
       "      <td>6435000.00</td>\n",
       "    </tr>\n",
       "    <tr>\n",
       "      <th>49</th>\n",
       "      <td>628650.00</td>\n",
       "    </tr>\n",
       "  </tbody>\n",
       "</table>\n",
       "</div>"
      ],
      "text/plain": [
       "        Salary\n",
       "27   900715.00\n",
       "20   893466.75\n",
       "37   600600.00\n",
       "6   6435000.00\n",
       "49   628650.00"
      ]
     },
     "execution_count": 15,
     "metadata": {},
     "output_type": "execute_result"
    }
   ],
   "source": [
    "# Converting yvalues back to $$\n",
    "df_ytest = pd.DataFrame(np.exp(y_test)-1)\n",
    "df_ytest.columns = ['Salary']\n",
    "df_ytest.head()"
   ]
  },
  {
   "cell_type": "code",
   "execution_count": 16,
   "metadata": {},
   "outputs": [
    {
     "data": {
      "text/html": [
       "<div>\n",
       "<style scoped>\n",
       "    .dataframe tbody tr th:only-of-type {\n",
       "        vertical-align: middle;\n",
       "    }\n",
       "\n",
       "    .dataframe tbody tr th {\n",
       "        vertical-align: top;\n",
       "    }\n",
       "\n",
       "    .dataframe thead th {\n",
       "        text-align: right;\n",
       "    }\n",
       "</style>\n",
       "<table border=\"1\" class=\"dataframe\">\n",
       "  <thead>\n",
       "    <tr style=\"text-align: right;\">\n",
       "      <th></th>\n",
       "      <th>Salary</th>\n",
       "    </tr>\n",
       "  </thead>\n",
       "  <tbody>\n",
       "    <tr>\n",
       "      <th>0</th>\n",
       "      <td>8.757215e+05</td>\n",
       "    </tr>\n",
       "    <tr>\n",
       "      <th>1</th>\n",
       "      <td>1.222194e+06</td>\n",
       "    </tr>\n",
       "    <tr>\n",
       "      <th>2</th>\n",
       "      <td>5.964578e+05</td>\n",
       "    </tr>\n",
       "    <tr>\n",
       "      <th>3</th>\n",
       "      <td>1.992000e+06</td>\n",
       "    </tr>\n",
       "    <tr>\n",
       "      <th>4</th>\n",
       "      <td>9.036352e+05</td>\n",
       "    </tr>\n",
       "  </tbody>\n",
       "</table>\n",
       "</div>"
      ],
      "text/plain": [
       "         Salary\n",
       "0  8.757215e+05\n",
       "1  1.222194e+06\n",
       "2  5.964578e+05\n",
       "3  1.992000e+06\n",
       "4  9.036352e+05"
      ]
     },
     "execution_count": 16,
     "metadata": {},
     "output_type": "execute_result"
    }
   ],
   "source": [
    "# Converting ypred back to $$\n",
    "\n",
    "df_ypred = pd.DataFrame(np.exp(y_test_pred)-1, columns =['Salary'])\n",
    "df_ypred.head()"
   ]
  },
  {
   "cell_type": "code",
   "execution_count": 17,
   "metadata": {},
   "outputs": [
    {
     "name": "stdout",
     "output_type": "stream",
     "text": [
      "How off is my prediction? $1130142.0\n"
     ]
    }
   ],
   "source": [
    "# Calculate RMSE, in terms of salaries world\n",
    "rmse = np.sqrt(mean_squared_error(np.asarray(df_ytest), np.asarray(df_ypred)))\n",
    "\n",
    "print('How off is my prediction? ${}'.format(round(rmse)))\n"
   ]
  },
  {
   "cell_type": "code",
   "execution_count": 18,
   "metadata": {},
   "outputs": [],
   "source": [
    "# Summary of y values \n",
    "df_y_summary = pd.concat([df_ytest.reset_index(),df_ypred.reset_index()], axis=1)\n",
    "df_y_summary = df_y_summary.drop(columns = ['index'])"
   ]
  },
  {
   "cell_type": "markdown",
   "metadata": {},
   "source": [
    "### Check out the overall performance of the model, with respect to the test set "
   ]
  },
  {
   "cell_type": "code",
   "execution_count": 19,
   "metadata": {},
   "outputs": [],
   "source": [
    "df_y_summary.columns = ['True','Predicted']"
   ]
  },
  {
   "cell_type": "code",
   "execution_count": 20,
   "metadata": {},
   "outputs": [
    {
     "data": {
      "image/png": "[encoded data removed]",
      "text/plain": [
       "<Figure size 720x576 with 1 Axes>"
      ]
     },
     "metadata": {
      "needs_background": "light"
     },
     "output_type": "display_data"
    }
   ],
   "source": [
    "# plt.figure(figsize=(12,8))\n",
    "\n",
    "fig,axes = plt.subplots(figsize=(10,8))\n",
    "sns.distplot( df_y_summary.iloc[:,[0]] , color=\"green\", label=\"true\", kde=False)\n",
    "sns.distplot( df_y_summary.iloc[:,[1]] , color=\"orange\", label=\"predicted\" , kde=False)\n",
    "plt.xlim([-1e6, 8000000])\n",
    "plt.xticks([0.,  1000000.,  2000000.,  3000000.,  4000000.,\n",
    "         5000000.,  6000000.,  7000000.,  8000000.], [str(x) for x in range(0,10,1 )]);\n",
    "plt.xlabel('Salary, USD (x1 million)')\n",
    "plt.ylabel('count')\n",
    "plt.legend()\n",
    "plt.savefig('./figures/ytest_ypred_histo.png');\n",
    "\n"
   ]
  },
  {
   "cell_type": "code",
   "execution_count": 21,
   "metadata": {},
   "outputs": [
    {
     "data": {
      "image/png": "[encoded data removed]",
      "text/plain": [
       "<Figure size 720x576 with 1 Axes>"
      ]
     },
     "metadata": {
      "needs_background": "light"
     },
     "output_type": "display_data"
    }
   ],
   "source": [
    "# plt.figure(figsize=(12,8))\n",
    "\n",
    "fig,axes = plt.subplots(figsize=(10,8))\n",
    "sns.distplot( df_y_summary.iloc[:,[0]] , color=\"green\", label=\"true\")\n",
    "sns.distplot( df_y_summary.iloc[:,[1]] , color=\"orange\", label=\"predicted\")\n",
    "plt.xlim([-1e6, 8000000])\n",
    "plt.xticks([0.,  1000000.,  2000000.,  3000000.,  4000000.,\n",
    "         5000000.,  6000000.,  7000000.,  8000000.], [str(x) for x in range(0,10,1 )]);\n",
    "plt.xlabel('Salary, USD (x1 million)')\n",
    "plt.ylabel('probability density')\n",
    "plt.legend()\n",
    "plt.savefig('./figures/ytest_ypred_histo_kde.png');\n",
    "\n"
   ]
  },
  {
   "cell_type": "markdown",
   "metadata": {},
   "source": [
    "Notes:\n",
    "- Lineshapes are fairly similar, with some discrepancies\n",
    "- The model is overly confident in predicting lower-range Salaries, and misses the mark on the higher-income range \n",
    "- Error (RMSE) is ~1.1 million"
   ]
  },
  {
   "cell_type": "markdown",
   "metadata": {},
   "source": [
    "---"
   ]
  }
 ],
 "metadata": {
  "kernelspec": {
   "display_name": "Python 3",
   "language": "python",
   "name": "python3"
  },
  "language_info": {
   "codemirror_mode": {
    "name": "ipython",
    "version": 3
   },
   "file_extension": ".py",
   "mimetype": "text/x-python",
   "name": "python",
   "nbconvert_exporter": "python",
   "pygments_lexer": "ipython3",
   "version": "3.7.0"
  }
 },
 "nbformat": 4,
 "nbformat_minor": 2
}
